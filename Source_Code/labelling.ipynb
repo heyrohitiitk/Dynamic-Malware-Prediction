{
 "cells": [
  {
   "cell_type": "code",
   "execution_count": 1,
   "metadata": {},
   "outputs": [],
   "source": [
    "import glob\n",
    "all_files = glob.glob(\"/Users/Deepak Raj/Desktop/Apps1/*\")"
   ]
  },
  {
   "cell_type": "code",
   "execution_count": 2,
   "metadata": {
    "collapsed": true
   },
   "outputs": [
    {
     "data": {
      "text/plain": [
       "['\\\\360TS_Setup_Mini.exe',\n",
       " '\\\\7z1900-x64.exe',\n",
       " '\\\\advisorinstaller.exe',\n",
       " '\\\\aflsetup.exe',\n",
       " '\\\\AnyDesk.exe',\n",
       " '\\\\apowerrec-setup.exe',\n",
       " '\\\\avast_free_antivirus_setup_online.exe',\n",
       " '\\\\avast_secure_browser_setup.exe',\n",
       " '\\\\avira_en_sptl1_2030046930-1585652627__pavwws-spotlight-release.exe',\n",
       " '\\\\BaiduBrowser_MiniDownloader (1).exe',\n",
       " '\\\\BaiduBrowser_MiniDownloader.exe',\n",
       " '\\\\BetternetForWindows.exe',\n",
       " '\\\\Bijoy-Bayanno.rar',\n",
       " '\\\\BlueStacksMicroInstaller_5.3.145.1003.exe',\n",
       " '\\\\BluetoothDriverInstaller_x64.exe',\n",
       " '\\\\BraveBrowserSetup.exe',\n",
       " '\\\\BT_21.40.5_32_Win7.exe',\n",
       " '\\\\CDGS.exe',\n",
       " '\\\\dotNetFx35setup.exe',\n",
       " '\\\\DriverPack-17-Online_1633135298.1583503512.exe',\n",
       " '\\\\driver_booster_setup (1).exe',\n",
       " '\\\\DRW_Free_RSS_new_Installer_20211007.153.exe',\n",
       " '\\\\dxwebsetup.exe',\n",
       " '\\\\Everything-1.4.1.1009.x86-Setup.exe',\n",
       " '\\\\file (4)',\n",
       " '\\\\Firefox_Installer (1).exe',\n",
       " '\\\\Firefox_Installer (2).exe',\n",
       " '\\\\Firefox_Installer (3).exe',\n",
       " '\\\\Firefox_Installer.exe',\n",
       " '\\\\flashplayer32pp_en_install.exe',\n",
       " '\\\\freemp3cutterjoiner.zip',\n",
       " '\\\\FreePDFEditor.exe',\n",
       " '\\\\freevideocutterjoiner.zip',\n",
       " '\\\\FreeVideoToMP3Converter_5.1.8.310_r.exe',\n",
       " '\\\\Free_PDF_Reader_v2.0.msi',\n",
       " '\\\\HPUSBDisk.exe',\n",
       " '\\\\IE9-Windows7-x86-enu.exe',\n",
       " '\\\\MegaDownloader_v1-7.exe',\n",
       " '\\\\MicrosoftEdgeSetup.exe',\n",
       " '\\\\MKVPlayerSetupD.exe',\n",
       " '\\\\mkvtoolnix-32-bit-63.0.0-setup.exe',\n",
       " '\\\\MPC-HC.1.9.18.x64.exe',\n",
       " '\\\\MPC-HC.1.9.18.x86.exe',\n",
       " '\\\\ndp48-web.exe',\n",
       " '\\\\Novicorp_WinToFlash_Lite_The_Bootable_USB_Creator_1.13.0000_Setup.exe',\n",
       " '\\\\npp.7.9.3.Installer.x64.exe',\n",
       " '\\\\PacketTracer800_Build211_32bit (1).exe',\n",
       " '\\\\PacketTracer800_Build211_32bit.exe',\n",
       " '\\\\PDFReaderSetup.exe',\n",
       " '\\\\PhotoViewerForWin10Setup.exe',\n",
       " '\\\\picasa39-setup.exe',\n",
       " '\\\\python-3.10.0-amd64.exe',\n",
       " '\\\\qbittorrent_4.3.4.1_setup.exe',\n",
       " '\\\\rufus-3.17 (1).exe',\n",
       " '\\\\rufus-3.17.exe',\n",
       " '\\\\SaveAsPDFandXPS (1).exe',\n",
       " '\\\\SaveAsPDFandXPS (2).exe',\n",
       " '\\\\SaveAsPDFandXPS (3).exe',\n",
       " '\\\\SaveAsPDFandXPS (4).exe',\n",
       " '\\\\SaveAsPDFandXPS.exe',\n",
       " '\\\\Setup_MagicISO.exe',\n",
       " '\\\\SHAREit-KCWEB.exe',\n",
       " '\\\\SpotifySetup.exe',\n",
       " '\\\\spsetup132.exe',\n",
       " '\\\\SteamSetup (1).exe',\n",
       " '\\\\teracopy3.8.5.exe',\n",
       " '\\\\tsetup-x64.2.7.1.exe',\n",
       " '\\\\uiso9_pe.exe',\n",
       " '\\\\Unconfirmed 867055.crdownload',\n",
       " '\\\\unlocker-setup.exe',\n",
       " '\\\\Unlocker1-9-2.exe',\n",
       " '\\\\UrbanVPN2.exe',\n",
       " '\\\\uTorrent.exe',\n",
       " '\\\\uTorrentPortable_3.5.5.46090_online.paf.exe',\n",
       " '\\\\vs_community_2019.16.11.exe',\n",
       " '\\\\WiFiHotspot_Setup_GL.exe',\n",
       " '\\\\winamp58_3660_beta_full_en-us.exe',\n",
       " '\\\\Windows7-USB-DVD-Download-Tool-Installer-en-US.exe',\n",
       " '\\\\winrar-x32-611.exe',\n",
       " '\\\\winrar-x64-601b1.exe',\n",
       " '\\\\winrar-x64-611 (1).exe',\n",
       " '\\\\winrar-x64-611 (2).exe',\n",
       " '\\\\winrar-x64-611.exe',\n",
       " '\\\\WLan_Driver_802.11n_Rel._4.80.28.7.zip',\n",
       " '\\\\wps_office_inst.exe',\n",
       " '\\\\XMouseButtonControlSetup.2.19.2.exe',\n",
       " '\\\\Zapya587c02.apk',\n",
       " '\\\\ZoomInstaller.exe']"
      ]
     },
     "execution_count": 2,
     "metadata": {},
     "output_type": "execute_result"
    }
   ],
   "source": [
    "files_names = []\n",
    "for f in all_files:\n",
    "    files_names.append(f[31:])\n",
    "files_names"
   ]
  },
  {
   "cell_type": "code",
   "execution_count": 3,
   "metadata": {},
   "outputs": [
    {
     "data": {
      "text/plain": [
       "31"
      ]
     },
     "execution_count": 3,
     "metadata": {},
     "output_type": "execute_result"
    }
   ],
   "source": [
    "len('/Users/Deepak Raj/Desktop/Apps\\\\')"
   ]
  },
  {
   "cell_type": "code",
   "execution_count": 4,
   "metadata": {
    "scrolled": false
   },
   "outputs": [
    {
     "name": "stdout",
     "output_type": "stream",
     "text": [
      "dda435b71a54fd44e3a63d94af20e69044751cf65cd7180bff29060089c3afb5-1651172245\n",
      "790dadfb688f18abd94bec1d0cc33eec9349ae0c665cbe90eae2867ab369b280-1651172096\n",
      "1a5a9f019e761acc221b1f67a41786e12dead1167b326c554805f8bdbd5ca89c-1651172264\n",
      "6fe6e5d741709c851b631f5159216ed3dcfe4a6af88db1bb8fac1ecac48d6ea8-1651172298\n",
      "17a27e3505347ead1bdb6389ff5a4be0181eeccd0bc9518679ff2f4f1f3dda9d-1651172307\n",
      "ba67d7794d2933742253f1002e161ec778c26309d40c2a419ddb7eb63937765f-1651172324\n",
      "046e29b8491a71226cf3c53ccd53a86ed25c837ebcb20f0927b61156d2e15a54-1651172368\n",
      "1331562b3f5a2a409b18f6b3667cb19f0dc38ef3fc5a812969ecaa23fe5de2f4-1651172383\n",
      "f9af396f745202bda3a3eb8d42506c4ac67717a3e634e3c4dd1114cf52861a7c-1651172985\n",
      "f02c02fb320d2431f394d2396c70719af3324b3b8326ba99f26f4d9f07ff05af-1651172990\n",
      "f02c02fb320d2431f394d2396c70719af3324b3b8326ba99f26f4d9f07ff05af-1651172990\n",
      "28b9ac89de11646ad44db2401b63573d17957272d9c35ad6e2ea627631778e86-1651172999\n",
      "90bbfacb7298d26a73ee4d0ce938e6837cca90748550f710389b3a6fcdb4faf0-1651173011\n",
      "96714c924eb042078140dc8177f23e0a213bde3660cc2843efaa2b6e916f5a83-1651173016\n",
      "e0052cc7e0761d47ca29fccb68b2771250ed978ea5f2f290da72e039a381e15c-1651173024\n",
      "287dc45e3bd596395b714a71c2f9a8824c5778e9d6ad67f312e8452a0f3a4b61-1651173030\n",
      "error in file \\BT_21.40.5_32_Win7.exe\n",
      "fc944f66fdfb823a69e952c8342ca2efba4d91d42b70613003dcc7550f7fb966-1651173088\n",
      "ddf2adbbc2ff8750e777466c41fd7fc2127e2f274b5ec6d93b662e378ce2ccd7-1651173096\n",
      "e9d971cca7559e8543585d9fc4a707e96cb55b83e0a6b35786e1a6b3b13a4e19-1651173111\n",
      "error in file \\driver_booster_setup (1).exe\n",
      "890a84cb2ba3a28671ac91c62a60a0146a89019cdba9c3442e0d886bb023b148-1651173169\n",
      "dcc4995eb85c5a0fb870ab8c60004cf078ed7a9e2a992743c43c1ddb8b4551ef-1651173172\n",
      "cdae3fc7552cf83d4c2ace4d3689f219975c2457709367521aa5baa2a63e78d1-1651173178\n",
      "c8eb5370b282bd5e4141748c50c58114ec21e4ca53ec678a7ed0537a026cc30d-1651173198\n",
      "bcc25e66a3e240e4b465317d632dfea3dd36b898a8d87c7a1c102dba44caf8ae-1651173201\n",
      "bcc25e66a3e240e4b465317d632dfea3dd36b898a8d87c7a1c102dba44caf8ae-1651173201\n",
      "bcc25e66a3e240e4b465317d632dfea3dd36b898a8d87c7a1c102dba44caf8ae-1651173201\n",
      "bcc25e66a3e240e4b465317d632dfea3dd36b898a8d87c7a1c102dba44caf8ae-1651173201\n",
      "9e4acb3587ffb6b2f079922b3532200f48c7fc5510c1d8bdd70a7c3902d36ced-1651173212\n",
      "8ce019761e2f7272f5264a1c65d395345886fe5fda8c8e116547b3ceb7665236-1651173226\n",
      "43abdcecd55cd23a19635749f2dad8b515a62cf315379538e156c26ce8fe611e-1651173230\n",
      "390866f8a6069e539724552601680738e4bacd7e2d98b2f1e911f14864f352d0-1651173260\n",
      "error in file \\FreeVideoToMP3Converter_5.1.8.310_r.exe\n",
      "57acb0cfcacab0f9ac6a363182ef33b20123539f1ad5a89aee80fa3045b400b8-1651173355\n",
      "0ff015e2eb9edd7bb4812213b6f9c5d02947abc239788768eab0d327312e9abd-1651173357\n",
      "803d77854eeb306c505ddea153e91e3ae994128c452e3265dd517a2c587a9593-1651173397\n",
      "dcbb6afdeaf95457445dff2b6c8de296d679170169cb7291adcfbd0cc8d74066-1651173404\n",
      "b961e826c049966d035b16e5d196063027ff078333ff06238432b2e187404af5-1651173409\n",
      "165429a420b86f5bdca8e47427c99de44379b1ed3e76bc425c608e35f572d6d4-1651173424\n",
      "error in file \\mkvtoolnix-32-bit-63.0.0-setup.exe\n",
      "75405601932148517028e0f30722338dce03647808b62cc9acc02608097fe4dd-1651173511\n",
      "9fea2afc0b23948249e1e492c9dec236e41d48f71e8c8c2c723c6305500d9a10-1651173548\n",
      "3ecb087eeeef88ab942424f28061094bf83fc8c705b8b0212a2243248af7c369-1651173553\n",
      "5b08e56762b4e82441feb77eeffa7e7282a2b87a959e9ff0825ae84a39cd45aa-1651173576\n",
      "2b22e8b47d79e7c8ecc492cc8ff05f0f65d611096abeeed51d8c6daa28235eda-1651173589\n",
      "error in file \\PacketTracer800_Build211_32bit (1).exe\n",
      "error in file \\PacketTracer800_Build211_32bit.exe\n",
      "49b5a60d7542636f208dea93f76802cfebad65a17c436bec6345e7bc12c2c6b2-1651173701\n",
      "839428e22006bb29e55c09ebe901dcc356517433549268811f1f5f1869d50db8-1651173706\n",
      "8a0d53bee88146207201862713057e86f4d843e35bffdf0436a3f1c88b6ad087-1651173737\n",
      "error in file \\python-3.10.0-amd64.exe\n",
      "error in file \\qbittorrent_4.3.4.1_setup.exe\n",
      "12942da108a428727fa15ac1b83284a8186fcc19912f66be5a9ef661043df799-1651173840\n",
      "12942da108a428727fa15ac1b83284a8186fcc19912f66be5a9ef661043df799-1651173840\n",
      "1e56db4c5cc691800fa86c2fd5cb2a771aab9e0f93f8861588eccf804197de2f-1651173848\n",
      "1e56db4c5cc691800fa86c2fd5cb2a771aab9e0f93f8861588eccf804197de2f-1651173848\n",
      "1e56db4c5cc691800fa86c2fd5cb2a771aab9e0f93f8861588eccf804197de2f-1651173848\n",
      "1e56db4c5cc691800fa86c2fd5cb2a771aab9e0f93f8861588eccf804197de2f-1651173848\n",
      "1e56db4c5cc691800fa86c2fd5cb2a771aab9e0f93f8861588eccf804197de2f-1651173848\n",
      "e06d3f05628795d71565be3a11a53286922dda73e4047d3e7e99bd695f26e4e8-1651173871\n",
      "3a255e9fd301f1b72263c4886f3202f244788743f80572e905c75614ea9ff827-1651173886\n",
      "84c76e193f023dc12a84b5f2ce9e1c552939135f99e37e42e8a5c084ee9dab98-1651173889\n",
      "c0a9d36f9754811521253e31e2592a0f71d0b749b12a9b3159e4ac6c6def0f4e-1651173909\n",
      "73695926ddf7b7f7f3be0ba01ca605492feb3182331f5362d5d0a311bea8bc68-1651173915\n",
      "84c2ac7fdfb12f5dc20b8db515526339f26f7993d80d54ffae75e8e90560cfef-1651173936\n",
      "error in file \\tsetup-x64.2.7.1.exe\n",
      "7c0bf65746a2b49e39ecf3a35eb79b48cc982419cda313f5cae9a240e78018a2-1651174004\n",
      "93fdabe846be3414845994bc8ce61dacc7e6d1f41e94d0ac8c92dcd543da79e1-1651174007\n",
      "90e221e984d47393c1fea2f209aa3a98ee1e4fe7f3e952d8f6ee5be35a08cf7c-1651174015\n",
      "283e5525058335fd33cd7e980b7540f52c93f7207329dff3caa69803696126f0-1651174018\n",
      "error in file \\UrbanVPN2.exe\n",
      "e6d82667dbc7097d3c1e21e870c145b6d8db7b11e64f71b6c0d9978ffa384f28-1651174081\n",
      "66725f1d06e9e9160b8e46eb7b98641130bb2fa56d3db2bd60e1007666c75ae3-1651174090\n",
      "737c4decbb4ccd6690c501e1000cd011b0748765eaa5765e5558b0ecb9615abd-1651174095\n",
      "bd65bab92e598d56989f36ea1c32c997a562dec31d5ea100983f95d00d247179-1651174108\n",
      "c55efc99792f61b0eecf01330ede41cf0bde866bc6b02641668c72199eee6d58-1651174128\n",
      "b6a69c24730ebf86f6e9f1e46f48124b1e983662bfaf55e8caead5de581010bb-1651174135\n",
      "d6d89a05c27a223bcc91c319f265a7b3616c0325cc5e0f94340a8f5517b7901d-1651174144\n",
      "13e2e8b6d6190326f75f7c139a585eedf988144e4ec593bce8dd91a108c76e9f-1651174153\n",
      "25e1f0dc44f62a9240d745d759f239907a380727ea7cf8e4208a64cf547e4630-1651174163\n",
      "25e1f0dc44f62a9240d745d759f239907a380727ea7cf8e4208a64cf547e4630-1651174163\n",
      "25e1f0dc44f62a9240d745d759f239907a380727ea7cf8e4208a64cf547e4630-1651174163\n",
      "9941482ed1702493c53822c59b39ebcea3b152e06fa87d35b5cce999dedded03-1651174203\n",
      "227a961f63c500b3ce81a989d35592605e0de015c0b55261a8547017da377ad0-1651174216\n",
      "2952b2a75b037cb4cd9d6ca3f4c7176de44104eac7d9553c91cef42cb6ada287-1651174224\n",
      "624abc350d587966306403c5fa4c181fa4b7f57974a7a5283ae5324f9f3f79be-1651174249\n",
      "0b21559c6e5eb19db4200a03bf67332bf19e9bd3bb0ec54f46132120bf608ef6-1651174286\n"
     ]
    }
   ],
   "source": [
    "import requests\n",
    "\n",
    "url = 'https://www.virustotal.com/vtapi/v2/file/scan'\n",
    "\n",
    "params = {'apikey': '800aa97d662ed83b60273ed56703d9be5fedfb39c0c8fb0b4b1c2f18556b02d6'}\n",
    "hash_codes = {}\n",
    "for name in files_names:\n",
    "    try:\n",
    "        files = {'file': (name, open('Apps1/'+name, errors='ignore'))}\n",
    "\n",
    "        response = requests.post(url, files=files, params=params)\n",
    "        code = (response.json()['scan_id'])\n",
    "        print(code)\n",
    "        hash_codes[name] = code\n",
    "    except:\n",
    "        print(\"error in file\", name)"
   ]
  },
  {
   "cell_type": "code",
   "execution_count": 21,
   "metadata": {},
   "outputs": [],
   "source": [
    "import pickle\n",
    "with open(\"hash_codes.pkl\",'wb') as f:\n",
    "    pickle.dump(hash_codes, f)"
   ]
  },
  {
   "cell_type": "code",
   "execution_count": 18,
   "metadata": {},
   "outputs": [
    {
     "data": {
      "text/plain": [
       "{'\\\\360TS_Setup_Mini.exe': 0,\n",
       " '\\\\7z1900-x64.exe': 0,\n",
       " '\\\\advisorinstaller.exe': 0,\n",
       " '\\\\aflsetup.exe': 0,\n",
       " '\\\\AnyDesk.exe': 0,\n",
       " '\\\\apowerrec-setup.exe': 0,\n",
       " '\\\\avast_free_antivirus_setup_online.exe': 0,\n",
       " '\\\\avast_secure_browser_setup.exe': 0}"
      ]
     },
     "execution_count": 18,
     "metadata": {},
     "output_type": "execute_result"
    }
   ],
   "source": [
    "classes"
   ]
  },
  {
   "cell_type": "code",
   "execution_count": 23,
   "metadata": {},
   "outputs": [
    {
     "data": {
      "text/plain": [
       "True"
      ]
     },
     "execution_count": 23,
     "metadata": {},
     "output_type": "execute_result"
    }
   ],
   "source": [
    "'\\\\360TS_Setup_Mini.exe' in hash_codes"
   ]
  },
  {
   "cell_type": "code",
   "execution_count": null,
   "metadata": {
    "scrolled": true
   },
   "outputs": [
    {
     "name": "stdout",
     "output_type": "stream",
     "text": [
      "0\n",
      "0\n",
      "0\n",
      "0\n",
      "0\n",
      "0\n",
      "0\n",
      "0\n",
      "0\n",
      "0\n",
      "0\n",
      "0\n",
      "0\n",
      "0\n",
      "0\n",
      "0\n",
      "0\n",
      "1\n",
      "0\n",
      "0\n",
      "0\n",
      "0\n",
      "0\n",
      "0\n",
      "0\n",
      "0\n",
      "0\n",
      "0\n",
      "0\n",
      "0\n",
      "0\n",
      "0\n",
      "1\n",
      "0\n",
      "0\n",
      "0\n",
      "0\n",
      "0\n",
      "0\n",
      "0\n",
      "0\n",
      "0\n",
      "0\n",
      "0\n",
      "0\n",
      "0\n",
      "0\n",
      "0\n",
      "0\n",
      "0\n",
      "0\n",
      "0\n",
      "0\n",
      "0\n",
      "0\n",
      "0\n",
      "0\n",
      "0\n"
     ]
    }
   ],
   "source": [
    "import requests\n",
    "import time\n",
    "\n",
    "url = 'https://www.virustotal.com/vtapi/v2/file/report'\n",
    "classes = {}\n",
    "for key in hash_codes:\n",
    "    params = {'apikey': '800aa97d662ed83b60273ed56703d9be5fedfb39c0c8fb0b4b1c2f18556b02d6', \n",
    "              'resource': hash_codes[key]}\n",
    "    while True:\n",
    "        response = requests.get(url, params=params)\n",
    "        try:\n",
    "            if ('positives' in response.json().keys()):\n",
    "                break\n",
    "        except:\n",
    "            pass\n",
    "    classes[key] = response.json()['positives']\n",
    "    print(response.json()['positives'])"
   ]
  }
 ],
 "metadata": {
  "kernelspec": {
   "display_name": "Python 3",
   "language": "python",
   "name": "python3"
  },
  "language_info": {
   "codemirror_mode": {
    "name": "ipython",
    "version": 3
   },
   "file_extension": ".py",
   "mimetype": "text/x-python",
   "name": "python",
   "nbconvert_exporter": "python",
   "pygments_lexer": "ipython3",
   "version": "3.8.10"
  }
 },
 "nbformat": 4,
 "nbformat_minor": 5
}
